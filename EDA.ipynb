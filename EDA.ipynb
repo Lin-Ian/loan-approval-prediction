{
 "cells": [
  {
   "cell_type": "code",
   "execution_count": 1,
   "metadata": {
    "collapsed": true,
    "ExecuteTime": {
     "end_time": "2023-07-26T18:24:40.506101400Z",
     "start_time": "2023-07-26T18:24:24.348889100Z"
    }
   },
   "outputs": [],
   "source": [
    "import numpy\n",
    "import pandas as pd"
   ]
  },
  {
   "cell_type": "code",
   "execution_count": 2,
   "outputs": [
    {
     "data": {
      "text/plain": "    Loan_ID Gender Married  Dependents     Education Self_Employed  \\\n0  LP001002   Male      No         0.0      Graduate            No   \n1  LP001003   Male     Yes         1.0      Graduate            No   \n2  LP001005   Male     Yes         0.0      Graduate           Yes   \n3  LP001006   Male     Yes         0.0  Not Graduate            No   \n4  LP001008   Male      No         0.0      Graduate            No   \n5  LP001011   Male     Yes         2.0      Graduate           Yes   \n6  LP001013   Male     Yes         0.0  Not Graduate            No   \n7  LP001014   Male     Yes         3.0      Graduate            No   \n8  LP001018   Male     Yes         2.0      Graduate            No   \n9  LP001020   Male     Yes         1.0      Graduate            No   \n\n   ApplicantIncome  CoapplicantIncome  LoanAmount  Loan_Amount_Term  \\\n0             5849                0.0         NaN             360.0   \n1             4583             1508.0       128.0             360.0   \n2             3000                0.0        66.0             360.0   \n3             2583             2358.0       120.0             360.0   \n4             6000                0.0       141.0             360.0   \n5             5417             4196.0       267.0             360.0   \n6             2333             1516.0        95.0             360.0   \n7             3036             2504.0       158.0             360.0   \n8             4006             1526.0       168.0             360.0   \n9            12841            10968.0       349.0             360.0   \n\n   Credit_History Property_Area Loan_Status  \n0             1.0         Urban           Y  \n1             1.0         Rural           N  \n2             1.0         Urban           Y  \n3             1.0         Urban           Y  \n4             1.0         Urban           Y  \n5             1.0         Urban           Y  \n6             1.0         Urban           Y  \n7             0.0     Semiurban           N  \n8             1.0         Urban           Y  \n9             1.0     Semiurban           N  ",
      "text/html": "<div>\n<style scoped>\n    .dataframe tbody tr th:only-of-type {\n        vertical-align: middle;\n    }\n\n    .dataframe tbody tr th {\n        vertical-align: top;\n    }\n\n    .dataframe thead th {\n        text-align: right;\n    }\n</style>\n<table border=\"1\" class=\"dataframe\">\n  <thead>\n    <tr style=\"text-align: right;\">\n      <th></th>\n      <th>Loan_ID</th>\n      <th>Gender</th>\n      <th>Married</th>\n      <th>Dependents</th>\n      <th>Education</th>\n      <th>Self_Employed</th>\n      <th>ApplicantIncome</th>\n      <th>CoapplicantIncome</th>\n      <th>LoanAmount</th>\n      <th>Loan_Amount_Term</th>\n      <th>Credit_History</th>\n      <th>Property_Area</th>\n      <th>Loan_Status</th>\n    </tr>\n  </thead>\n  <tbody>\n    <tr>\n      <th>0</th>\n      <td>LP001002</td>\n      <td>Male</td>\n      <td>No</td>\n      <td>0.0</td>\n      <td>Graduate</td>\n      <td>No</td>\n      <td>5849</td>\n      <td>0.0</td>\n      <td>NaN</td>\n      <td>360.0</td>\n      <td>1.0</td>\n      <td>Urban</td>\n      <td>Y</td>\n    </tr>\n    <tr>\n      <th>1</th>\n      <td>LP001003</td>\n      <td>Male</td>\n      <td>Yes</td>\n      <td>1.0</td>\n      <td>Graduate</td>\n      <td>No</td>\n      <td>4583</td>\n      <td>1508.0</td>\n      <td>128.0</td>\n      <td>360.0</td>\n      <td>1.0</td>\n      <td>Rural</td>\n      <td>N</td>\n    </tr>\n    <tr>\n      <th>2</th>\n      <td>LP001005</td>\n      <td>Male</td>\n      <td>Yes</td>\n      <td>0.0</td>\n      <td>Graduate</td>\n      <td>Yes</td>\n      <td>3000</td>\n      <td>0.0</td>\n      <td>66.0</td>\n      <td>360.0</td>\n      <td>1.0</td>\n      <td>Urban</td>\n      <td>Y</td>\n    </tr>\n    <tr>\n      <th>3</th>\n      <td>LP001006</td>\n      <td>Male</td>\n      <td>Yes</td>\n      <td>0.0</td>\n      <td>Not Graduate</td>\n      <td>No</td>\n      <td>2583</td>\n      <td>2358.0</td>\n      <td>120.0</td>\n      <td>360.0</td>\n      <td>1.0</td>\n      <td>Urban</td>\n      <td>Y</td>\n    </tr>\n    <tr>\n      <th>4</th>\n      <td>LP001008</td>\n      <td>Male</td>\n      <td>No</td>\n      <td>0.0</td>\n      <td>Graduate</td>\n      <td>No</td>\n      <td>6000</td>\n      <td>0.0</td>\n      <td>141.0</td>\n      <td>360.0</td>\n      <td>1.0</td>\n      <td>Urban</td>\n      <td>Y</td>\n    </tr>\n    <tr>\n      <th>5</th>\n      <td>LP001011</td>\n      <td>Male</td>\n      <td>Yes</td>\n      <td>2.0</td>\n      <td>Graduate</td>\n      <td>Yes</td>\n      <td>5417</td>\n      <td>4196.0</td>\n      <td>267.0</td>\n      <td>360.0</td>\n      <td>1.0</td>\n      <td>Urban</td>\n      <td>Y</td>\n    </tr>\n    <tr>\n      <th>6</th>\n      <td>LP001013</td>\n      <td>Male</td>\n      <td>Yes</td>\n      <td>0.0</td>\n      <td>Not Graduate</td>\n      <td>No</td>\n      <td>2333</td>\n      <td>1516.0</td>\n      <td>95.0</td>\n      <td>360.0</td>\n      <td>1.0</td>\n      <td>Urban</td>\n      <td>Y</td>\n    </tr>\n    <tr>\n      <th>7</th>\n      <td>LP001014</td>\n      <td>Male</td>\n      <td>Yes</td>\n      <td>3.0</td>\n      <td>Graduate</td>\n      <td>No</td>\n      <td>3036</td>\n      <td>2504.0</td>\n      <td>158.0</td>\n      <td>360.0</td>\n      <td>0.0</td>\n      <td>Semiurban</td>\n      <td>N</td>\n    </tr>\n    <tr>\n      <th>8</th>\n      <td>LP001018</td>\n      <td>Male</td>\n      <td>Yes</td>\n      <td>2.0</td>\n      <td>Graduate</td>\n      <td>No</td>\n      <td>4006</td>\n      <td>1526.0</td>\n      <td>168.0</td>\n      <td>360.0</td>\n      <td>1.0</td>\n      <td>Urban</td>\n      <td>Y</td>\n    </tr>\n    <tr>\n      <th>9</th>\n      <td>LP001020</td>\n      <td>Male</td>\n      <td>Yes</td>\n      <td>1.0</td>\n      <td>Graduate</td>\n      <td>No</td>\n      <td>12841</td>\n      <td>10968.0</td>\n      <td>349.0</td>\n      <td>360.0</td>\n      <td>1.0</td>\n      <td>Semiurban</td>\n      <td>N</td>\n    </tr>\n  </tbody>\n</table>\n</div>"
     },
     "execution_count": 2,
     "metadata": {},
     "output_type": "execute_result"
    }
   ],
   "source": [
    "loan_data = pd.read_csv('data/loan-approval-data.csv')\n",
    "loan_data.head(10)"
   ],
   "metadata": {
    "collapsed": false,
    "ExecuteTime": {
     "end_time": "2023-07-26T18:25:56.553646600Z",
     "start_time": "2023-07-26T18:25:56.526135600Z"
    }
   }
  },
  {
   "cell_type": "code",
   "execution_count": 11,
   "outputs": [
    {
     "name": "stdout",
     "output_type": "stream",
     "text": [
      "Number of approved loans: 411\n",
      "Number of non-approved loans: 187\n",
      "Number of loan applications: 598\n"
     ]
    }
   ],
   "source": [
    "print(f\"Number of approved loans: {len(loan_data[loan_data['Loan_Status']=='Y'])}\")\n",
    "print(f\"Number of non-approved loans: {len(loan_data[loan_data['Loan_Status']=='N'])}\")\n",
    "print(f\"Number of loan applications: {len(loan_data)}\")"
   ],
   "metadata": {
    "collapsed": false,
    "ExecuteTime": {
     "end_time": "2023-07-26T18:35:36.189019500Z",
     "start_time": "2023-07-26T18:35:36.183966300Z"
    }
   }
  },
  {
   "cell_type": "code",
   "execution_count": 17,
   "outputs": [
    {
     "name": "stdout",
     "output_type": "stream",
     "text": [
      "Number of male applicants: 487\n",
      "Number of female applicants: 111\n"
     ]
    }
   ],
   "source": [
    "print(f\"Number of male applicants: {len(loan_data[loan_data['Gender']=='Male'])}\")\n",
    "print(f\"Number of female applicants: {len(loan_data[loan_data['Gender']=='Female'])}\")"
   ],
   "metadata": {
    "collapsed": false,
    "ExecuteTime": {
     "end_time": "2023-07-26T18:40:01.699400100Z",
     "start_time": "2023-07-26T18:40:01.695226900Z"
    }
   }
  },
  {
   "cell_type": "code",
   "execution_count": 19,
   "outputs": [
    {
     "name": "stdout",
     "output_type": "stream",
     "text": [
      "Number of married applicants: 388\n",
      "Number of non-married applicants: 210\n"
     ]
    }
   ],
   "source": [
    "print(f\"Number of married applicants: {len(loan_data[loan_data['Married']=='Yes'])}\")\n",
    "print(f\"Number of non-married applicants: {len(loan_data[loan_data['Married']=='No'])}\")"
   ],
   "metadata": {
    "collapsed": false,
    "ExecuteTime": {
     "end_time": "2023-07-26T18:40:44.307034100Z",
     "start_time": "2023-07-26T18:40:44.298589700Z"
    }
   }
  },
  {
   "cell_type": "code",
   "execution_count": 48,
   "outputs": [
    {
     "data": {
      "text/plain": "array([ 0.,  1.,  2.,  3., nan])"
     },
     "execution_count": 48,
     "metadata": {},
     "output_type": "execute_result"
    }
   ],
   "source": [
    "loan_data['Dependents'].unique()"
   ],
   "metadata": {
    "collapsed": false,
    "ExecuteTime": {
     "end_time": "2023-07-26T18:58:47.855746Z",
     "start_time": "2023-07-26T18:58:47.848232800Z"
    }
   }
  },
  {
   "cell_type": "code",
   "execution_count": 49,
   "outputs": [
    {
     "name": "stdout",
     "output_type": "stream",
     "text": [
      "Number of applications with 0.0: 338\n",
      "Number of applications with 1.0: 101\n",
      "Number of applications with 2.0: 99\n",
      "Number of applications with 3.0: 48\n",
      "Number of applications with nan: 0\n"
     ]
    }
   ],
   "source": [
    "for num_dependents in loan_data['Dependents'].unique().tolist():\n",
    "    print(f\"Number of applications with {num_dependents}: {len(loan_data[loan_data['Dependents']==num_dependents])}\")"
   ],
   "metadata": {
    "collapsed": false,
    "ExecuteTime": {
     "end_time": "2023-07-26T18:58:48.453808800Z",
     "start_time": "2023-07-26T18:58:48.441281500Z"
    }
   }
  },
  {
   "cell_type": "code",
   "execution_count": 51,
   "outputs": [
    {
     "name": "stdout",
     "output_type": "stream",
     "text": [
      "Number of applicants with missing field for dependents: 12\n"
     ]
    }
   ],
   "source": [
    "print(f\"Number of applicants with missing field for dependents: {loan_data['Dependents'].isna().sum()}\")"
   ],
   "metadata": {
    "collapsed": false,
    "ExecuteTime": {
     "end_time": "2023-07-26T19:00:24.423725Z",
     "start_time": "2023-07-26T19:00:24.415317900Z"
    }
   }
  },
  {
   "cell_type": "code",
   "execution_count": 53,
   "outputs": [
    {
     "name": "stdout",
     "output_type": "stream",
     "text": [
      "Number of graduated applicants: 465\n",
      "Number of non-graduated applicants: 133\n"
     ]
    }
   ],
   "source": [
    "print(f\"Number of graduated applicants: {len(loan_data[loan_data['Education']=='Graduate'])}\")\n",
    "print(f\"Number of non-graduated applicants: {len(loan_data[loan_data['Education']=='Not Graduate'])}\")"
   ],
   "metadata": {
    "collapsed": false,
    "ExecuteTime": {
     "end_time": "2023-07-26T19:01:32.725870800Z",
     "start_time": "2023-07-26T19:01:32.718309Z"
    }
   }
  },
  {
   "cell_type": "code",
   "execution_count": 54,
   "outputs": [
    {
     "name": "stdout",
     "output_type": "stream",
     "text": [
      "Number of self-employed applicants: 110\n",
      "Number of non-self-employed applicants: 488\n"
     ]
    }
   ],
   "source": [
    "print(f\"Number of self-employed applicants: {len(loan_data[loan_data['Self_Employed']=='Yes'])}\")\n",
    "print(f\"Number of non-self-employed applicants: {len(loan_data[loan_data['Self_Employed']=='No'])}\")"
   ],
   "metadata": {
    "collapsed": false,
    "ExecuteTime": {
     "end_time": "2023-07-26T19:02:50.009810800Z",
     "start_time": "2023-07-26T19:02:49.998182900Z"
    }
   }
  },
  {
   "cell_type": "code",
   "execution_count": 58,
   "outputs": [
    {
     "data": {
      "text/plain": "       ApplicantIncome  CoapplicantIncome  LoanAmount  Loan_Amount_Term\ncount       598.000000         598.000000  577.000000        584.000000\nmean       5292.252508        1631.499866  144.968804        341.917808\nstd        5807.265364        2953.315785   82.704182         65.205994\nmin         150.000000           0.000000    9.000000         12.000000\n25%        2877.500000           0.000000  100.000000        360.000000\n50%        3806.000000        1211.500000  127.000000        360.000000\n75%        5746.000000        2324.000000  167.000000        360.000000\nmax       81000.000000       41667.000000  650.000000        480.000000",
      "text/html": "<div>\n<style scoped>\n    .dataframe tbody tr th:only-of-type {\n        vertical-align: middle;\n    }\n\n    .dataframe tbody tr th {\n        vertical-align: top;\n    }\n\n    .dataframe thead th {\n        text-align: right;\n    }\n</style>\n<table border=\"1\" class=\"dataframe\">\n  <thead>\n    <tr style=\"text-align: right;\">\n      <th></th>\n      <th>ApplicantIncome</th>\n      <th>CoapplicantIncome</th>\n      <th>LoanAmount</th>\n      <th>Loan_Amount_Term</th>\n    </tr>\n  </thead>\n  <tbody>\n    <tr>\n      <th>count</th>\n      <td>598.000000</td>\n      <td>598.000000</td>\n      <td>577.000000</td>\n      <td>584.000000</td>\n    </tr>\n    <tr>\n      <th>mean</th>\n      <td>5292.252508</td>\n      <td>1631.499866</td>\n      <td>144.968804</td>\n      <td>341.917808</td>\n    </tr>\n    <tr>\n      <th>std</th>\n      <td>5807.265364</td>\n      <td>2953.315785</td>\n      <td>82.704182</td>\n      <td>65.205994</td>\n    </tr>\n    <tr>\n      <th>min</th>\n      <td>150.000000</td>\n      <td>0.000000</td>\n      <td>9.000000</td>\n      <td>12.000000</td>\n    </tr>\n    <tr>\n      <th>25%</th>\n      <td>2877.500000</td>\n      <td>0.000000</td>\n      <td>100.000000</td>\n      <td>360.000000</td>\n    </tr>\n    <tr>\n      <th>50%</th>\n      <td>3806.000000</td>\n      <td>1211.500000</td>\n      <td>127.000000</td>\n      <td>360.000000</td>\n    </tr>\n    <tr>\n      <th>75%</th>\n      <td>5746.000000</td>\n      <td>2324.000000</td>\n      <td>167.000000</td>\n      <td>360.000000</td>\n    </tr>\n    <tr>\n      <th>max</th>\n      <td>81000.000000</td>\n      <td>41667.000000</td>\n      <td>650.000000</td>\n      <td>480.000000</td>\n    </tr>\n  </tbody>\n</table>\n</div>"
     },
     "execution_count": 58,
     "metadata": {},
     "output_type": "execute_result"
    }
   ],
   "source": [
    "loan_data[['ApplicantIncome', 'CoapplicantIncome', 'LoanAmount', 'Loan_Amount_Term']].describe()"
   ],
   "metadata": {
    "collapsed": false,
    "ExecuteTime": {
     "end_time": "2023-07-26T19:05:59.723134500Z",
     "start_time": "2023-07-26T19:05:59.704947800Z"
    }
   }
  },
  {
   "cell_type": "code",
   "execution_count": 59,
   "outputs": [
    {
     "data": {
      "text/plain": "ApplicantIncome       0\nCoapplicantIncome     0\nLoanAmount           21\nLoan_Amount_Term     14\ndtype: int64"
     },
     "execution_count": 59,
     "metadata": {},
     "output_type": "execute_result"
    }
   ],
   "source": [
    "loan_data[['ApplicantIncome', 'CoapplicantIncome', 'LoanAmount', 'Loan_Amount_Term']].isna().sum()"
   ],
   "metadata": {
    "collapsed": false,
    "ExecuteTime": {
     "end_time": "2023-07-26T19:10:23.772920800Z",
     "start_time": "2023-07-26T19:10:23.743819100Z"
    }
   }
  },
  {
   "cell_type": "code",
   "execution_count": 60,
   "outputs": [
    {
     "data": {
      "text/plain": "array([ 1.,  0., nan])"
     },
     "execution_count": 60,
     "metadata": {},
     "output_type": "execute_result"
    }
   ],
   "source": [
    "loan_data['Credit_History'].unique()"
   ],
   "metadata": {
    "collapsed": false,
    "ExecuteTime": {
     "end_time": "2023-07-26T19:11:16.701812800Z",
     "start_time": "2023-07-26T19:11:16.682351600Z"
    }
   }
  },
  {
   "cell_type": "code",
   "execution_count": 63,
   "outputs": [
    {
     "name": "stdout",
     "output_type": "stream",
     "text": [
      "Number of applicants with credit history: 463\n",
      "Number of applicants with no credit history: 86\n",
      "Number of applicants missing credit history: 49\n"
     ]
    }
   ],
   "source": [
    "print(f\"Number of applicants with credit history: {len(loan_data[loan_data['Credit_History']==1.0])}\")\n",
    "print(f\"Number of applicants with no credit history: {len(loan_data[loan_data['Credit_History']==0.0])}\")\n",
    "print(f\"Number of applicants missing credit history: {loan_data['Credit_History'].isna().sum()}\")"
   ],
   "metadata": {
    "collapsed": false,
    "ExecuteTime": {
     "end_time": "2023-07-26T19:13:33.748801500Z",
     "start_time": "2023-07-26T19:13:33.727731700Z"
    }
   }
  },
  {
   "cell_type": "code",
   "execution_count": 64,
   "outputs": [
    {
     "data": {
      "text/plain": "array(['Urban', 'Rural', 'Semiurban'], dtype=object)"
     },
     "execution_count": 64,
     "metadata": {},
     "output_type": "execute_result"
    }
   ],
   "source": [
    "loan_data['Property_Area'].unique()"
   ],
   "metadata": {
    "collapsed": false,
    "ExecuteTime": {
     "end_time": "2023-07-26T19:15:24.950329400Z",
     "start_time": "2023-07-26T19:15:24.928882800Z"
    }
   }
  },
  {
   "cell_type": "code",
   "execution_count": 65,
   "outputs": [
    {
     "name": "stdout",
     "output_type": "stream",
     "text": [
      "Number of urban applicants: 198\n",
      "Number of rural applicants: 175\n",
      "Number of semi-urban applicants: 225\n"
     ]
    }
   ],
   "source": [
    "print(f\"Number of urban applicants: {len(loan_data[loan_data['Property_Area']=='Urban'])}\")\n",
    "print(f\"Number of rural applicants: {len(loan_data[loan_data['Property_Area']=='Rural'])}\")\n",
    "print(f\"Number of semi-urban applicants: {len(loan_data[loan_data['Property_Area']=='Semiurban'])}\")"
   ],
   "metadata": {
    "collapsed": false,
    "ExecuteTime": {
     "end_time": "2023-07-26T19:16:23.566021400Z",
     "start_time": "2023-07-26T19:16:23.538676200Z"
    }
   }
  },
  {
   "cell_type": "code",
   "execution_count": null,
   "outputs": [],
   "source": [],
   "metadata": {
    "collapsed": false
   }
  }
 ],
 "metadata": {
  "kernelspec": {
   "display_name": "Python 3",
   "language": "python",
   "name": "python3"
  },
  "language_info": {
   "codemirror_mode": {
    "name": "ipython",
    "version": 2
   },
   "file_extension": ".py",
   "mimetype": "text/x-python",
   "name": "python",
   "nbconvert_exporter": "python",
   "pygments_lexer": "ipython2",
   "version": "2.7.6"
  }
 },
 "nbformat": 4,
 "nbformat_minor": 0
}
